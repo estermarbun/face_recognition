{
 "cells": [
  {
   "cell_type": "code",
   "execution_count": 5,
   "metadata": {},
   "outputs": [
    {
     "name": "stdout",
     "output_type": "stream",
     "text": [
      "Enter Occupant ID: 1\n",
      "Enter Occupant Name: Ester Marbun\n"
     ]
    }
   ],
   "source": [
    "import cv2\n",
    "import numpy as np\n",
    "import sqlite3\n",
    "\n",
    "faceDetect=cv2.CascadeClassifier('haarcascade_frontalface_default.xml');\n",
    "cam=cv2.VideoCapture(0);\n",
    "\n",
    "def insertOrUpdate(Id,Name):\n",
    "    conn=sqlite3.connect(\"db_occupant2.db\")\n",
    "    new_table = '''CREATE TABLE netizen(ID, Name)'''\n",
    "    conn.execute(new_table)\n",
    "    cmd=\"SELECT * FROM netizen WHERE ID=\"+str(Id)\n",
    "    cursor=conn.execute(cmd)\n",
    "    isRecordExist=0\n",
    "    for row in cursor:\n",
    "        isRecordExist=1\n",
    "    if(isRecordExist==1):\n",
    "        conn.execute=\"UPDATE netizen SET Name=\"+str(Name)+\"WHERE ID=\"+str(Id)\n",
    "    else:\n",
    "#         conn.execute(\"INSERT INTO netizen(ID, Name , Age, Gender,CR) Values(\"+str(Id)+\",\"+str(Name)+\",\"+str(Age)+\",\"+str(Gen)+\",\"+str(CR)+\")\")\n",
    "        conn.execute(\"INSERT INTO netizen(ID, Name) VALUES(?,?)\", (Id, Name))\n",
    "    conn.commit()\n",
    "    conn.close()\n",
    "\n",
    "Id=input('Enter Occupant ID: ')\n",
    "name=input('Enter Occupant Name: ')\n",
    "insertOrUpdate(Id,name)\n",
    "sampleNum=0\n",
    "while(True):\n",
    "    ret,img=cam.read()\n",
    "    gray=cv2.cvtColor(img,cv2.COLOR_BGR2GRAY)\n",
    "    faces=faceDetect.detectMultiScale(gray,1.3,5)\n",
    "    for(x,y,w,h) in faces:\n",
    "        sampleNum=sampleNum+1\n",
    "        cv2.imwrite(\"C:/Users/Asus/Documents/Kerja Praktik/FaceRecognition/ImageRecord/Occupants_\"+str(Id)+\".\"+str(sampleNum)+\".jpg\",gray[y:y+h,x:x+w])\n",
    "        cv2.rectangle(img,(x,y),(x+w,y+h),(0,255,0),2)\n",
    "        cv2.waitKey(100)\n",
    "        \n",
    "    cv2.imshow(\"Face Recording\",img)\n",
    "    cv2.waitKey(1)\n",
    "    if(sampleNum>20):\n",
    "        break\n",
    "        \n",
    "cam.release()\n",
    "cv2.destroyAllWindows()"
   ]
  }
 ],
 "metadata": {
  "kernelspec": {
   "display_name": "Python 3",
   "language": "python",
   "name": "python3"
  },
  "language_info": {
   "codemirror_mode": {
    "name": "ipython",
    "version": 3
   },
   "file_extension": ".py",
   "mimetype": "text/x-python",
   "name": "python",
   "nbconvert_exporter": "python",
   "pygments_lexer": "ipython3",
   "version": "3.7.1"
  }
 },
 "nbformat": 4,
 "nbformat_minor": 2
}
