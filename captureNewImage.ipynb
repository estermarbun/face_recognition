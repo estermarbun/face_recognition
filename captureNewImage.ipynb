{
 "cells": [
  {
   "cell_type": "code",
   "execution_count": 10,
   "metadata": {},
   "outputs": [],
   "source": [
    "import os\n",
    "import cv2\n",
    "import numpy as np\n",
    "import import_ipynb\n",
    "import facialRecognition as fr"
   ]
  },
  {
   "cell_type": "code",
   "execution_count": 12,
   "metadata": {},
   "outputs": [
    {
     "data": {
      "text/plain": [
       "-1"
      ]
     },
     "execution_count": 12,
     "metadata": {},
     "output_type": "execute_result"
    }
   ],
   "source": [
    "cam = cv2.VideoCapture(0)\n",
    "\n",
    "count = 0\n",
    "\n",
    "while True:\n",
    "    retBool, test_img = cam.read()\n",
    "    \n",
    "    if not retBool:\n",
    "        continue\n",
    "    \n",
    "    cv2.imwrite(\"C:/Users/Asus/Documents/Kerja Praktik/FaceRecognition/dataset/1/estere%d.jpg\" % count, test_img)\n",
    "    count +=1\n",
    "    resized_img = cv2.resize(test_img, (1000, 700))\n",
    "    cv2.imshow(\"Face Recognition\", resized_img)\n",
    "    if cv2.waitKey(10) == ord('q'):\n",
    "        break\n",
    "    \n",
    "cam.release()\n",
    "cv2.destroyAllWindows()\n",
    "cv2.waitKey(1)\n",
    "\n",
    "          "
   ]
  },
  {
   "cell_type": "code",
   "execution_count": null,
   "metadata": {},
   "outputs": [],
   "source": []
  },
  {
   "cell_type": "code",
   "execution_count": null,
   "metadata": {},
   "outputs": [],
   "source": []
  }
 ],
 "metadata": {
  "kernelspec": {
   "display_name": "Python 3",
   "language": "python",
   "name": "python3"
  },
  "language_info": {
   "codemirror_mode": {
    "name": "ipython",
    "version": 3
   },
   "file_extension": ".py",
   "mimetype": "text/x-python",
   "name": "python",
   "nbconvert_exporter": "python",
   "pygments_lexer": "ipython3",
   "version": "3.7.1"
  }
 },
 "nbformat": 4,
 "nbformat_minor": 2
}
